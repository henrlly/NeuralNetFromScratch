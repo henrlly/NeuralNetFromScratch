{
 "cells": [
  {
   "cell_type": "code",
   "execution_count": 1,
   "metadata": {},
   "outputs": [
    {
     "name": "stderr",
     "output_type": "stream",
     "text": [
      "  % Total    % Received % Xferd  Average Speed   Time    Time     Time  Current\n",
      "                                 Dload  Upload   Total   Spent    Left  Speed\n",
      "\n",
      "  0     0    0     0    0     0      0      0 --:--:-- --:--:-- --:--:--     0\n",
      "  0  104M    0  3233    0     0   4416      0  6:53:33 --:--:--  6:53:33  4416\n",
      " 62  104M   62 65.6M    0     0  49.6M      0  0:00:02  0:00:01  0:00:01 49.6M\n",
      "100  104M  100  104M    0     0  62.7M      0  0:00:01  0:00:01 --:--:-- 62.7M\n",
      "  % Total    % Received % Xferd  Average Speed   Time    Time     Time  Current\n",
      "                                 Dload  Upload   Total   Spent    Left  Speed\n",
      "\n",
      "  0     0    0     0    0     0      0      0 --:--:-- --:--:-- --:--:--     0\n",
      "  0 17.4M    0  3237    0     0   3226      0  1:34:29  0:00:01  1:34:28  3230\n",
      "  4 17.4M    4  829k    0     0   508k      0  0:00:35  0:00:01  0:00:34  508k\n",
      " 99 17.4M   99 17.3M    0     0  6744k      0  0:00:02  0:00:02 --:--:-- 6745k\n",
      "100 17.4M  100 17.4M    0     0  6787k      0  0:00:02  0:00:02 --:--:-- 6788k\n"
     ]
    }
   ],
   "source": [
    "!curl \"https://python-course.eu/data/mnist/mnist_train.csv\" -o \"mnist_train.csv\"\n",
    "!curl \"https://python-course.eu/data/mnist/mnist_test.csv\" -o \"mnist_test.csv\""
   ]
  },
  {
   "cell_type": "code",
   "execution_count": 2,
   "metadata": {},
   "outputs": [],
   "source": [
    "# Read csv file\n",
    "import csv\n",
    "import numpy as np\n",
    "\n",
    "with open('mnist_train.csv') as f:\n",
    "    reader = csv.reader(f)\n",
    "    train = np.array(list(reader)).astype('int')\n",
    "\n",
    "np.random.seed(0)\n",
    "np.random.shuffle(train)\n",
    "# print(train)\n",
    "# print(train.shape)\n",
    "# print(train)\n",
    "\n",
    "with open('mnist_test.csv') as f:\n",
    "    reader = csv.reader(f)\n",
    "    test = np.array(list(reader)).astype('int')\n",
    "\n",
    "# print(test)\n",
    "# print(test.shape)\n",
    "# print(test)"
   ]
  },
  {
   "cell_type": "code",
   "execution_count": 3,
   "metadata": {},
   "outputs": [
    {
     "name": "stdout",
     "output_type": "stream",
     "text": [
      "[[0. 0. 0. ... 1. 0. 0.]\n",
      " [0. 0. 1. ... 0. 0. 0.]\n",
      " [0. 1. 0. ... 0. 0. 0.]\n",
      " ...\n",
      " [0. 0. 0. ... 0. 0. 0.]\n",
      " [0. 0. 0. ... 0. 0. 0.]\n",
      " [0. 0. 0. ... 0. 0. 0.]]\n"
     ]
    }
   ],
   "source": [
    "# Extract labels\n",
    "train_labels = train[:, 0]\n",
    "test_labels = test[:, 0]\n",
    "\n",
    "# Extract features\n",
    "train_features = train[:, 1:]\n",
    "test_features = test[:, 1:]\n",
    "\n",
    "# Normalize features\n",
    "train_features = train_features / 255\n",
    "test_features = test_features / 255\n",
    "\n",
    "# One-hot encode labels\n",
    "train_labels = np.eye(10)[train_labels]\n",
    "test_labels = np.eye(10)[test_labels]\n",
    "\n",
    "print(test_labels)"
   ]
  },
  {
   "cell_type": "code",
   "execution_count": 49,
   "metadata": {},
   "outputs": [
    {
     "name": "stdout",
     "output_type": "stream",
     "text": [
      "Loaded model 0 from file\n",
      "Loaded model 1 from file\n",
      "Loaded model 2 from file\n",
      "Loaded model 3 from file\n",
      "Loaded model 4 from file\n",
      "Loaded model 5 from file\n",
      "Loaded model 6 from file\n",
      "Loaded model 7 from file\n",
      "Loaded model 8 from file\n",
      "Loaded model 9 from file\n"
     ]
    }
   ],
   "source": [
    "import importlib, os\n",
    "import nn\n",
    "importlib.reload(nn)\n",
    "\n",
    "# Folder to save models\n",
    "folder = 'models'\n",
    "\n",
    "# Train neural networks\n",
    "models = []\n",
    "for x in range(10):\n",
    "\n",
    "\n",
    "    layers = [\n",
    "        nn.LinearLayer(784, 200, False),\n",
    "        # nn.BatchNorm1DLayer(100),\n",
    "        nn.ReLuLayer(),\n",
    "        nn.LinearLayer(200, 100, False),\n",
    "        # nn.BatchNorm1DLayer(100),\n",
    "        nn.ReLuLayer(),\n",
    "        # nn.DropoutLayer(0.1),\n",
    "        nn.LinearLayer(100, 10, False),\n",
    "        # nn.BatchNorm1DLayer(10),\n",
    "        nn.SoftmaxLayer()\n",
    "    ]\n",
    "    if os.path.exists(f'{folder}/model_{x}.pkl'):\n",
    "        models.append(nn.load_model(f'{folder}/model_{x}.pkl'))\n",
    "        print(f'Loaded model {x} from file')\n",
    "    else:\n",
    "        models.append(nn.NeuralNetwork(layers, 784, 10))\n",
    "        # test_features, test_labels only used to calculate accuracy\n",
    "        models[x].train(train_features, train_labels, 0.3, 800, 1000, test_features, test_labels, lr_decay=0.99, epoch_delay=50) # lr, epochs, batch_size\n",
    "\n",
    "        # Save model\n",
    "        if not os.path.exists(folder):\n",
    "            os.mkdir(folder)\n",
    "        models[x].save(f'{folder}/model_{x}.pkl')\n",
    "        print(f'Saved model {x} to file')\n",
    "    "
   ]
  },
  {
   "cell_type": "code",
   "execution_count": 50,
   "metadata": {},
   "outputs": [
    {
     "name": "stdout",
     "output_type": "stream",
     "text": [
      "0.9642\n",
      "0.9625\n"
     ]
    }
   ],
   "source": [
    "# Ensemble scores\n",
    "print(nn.score_ensemble_mean(models, test_features, test_labels))\n",
    "print(nn.score_ensemble_mode(models, test_features, test_labels))"
   ]
  },
  {
   "cell_type": "code",
   "execution_count": 51,
   "metadata": {},
   "outputs": [
    {
     "data": {
      "image/png": "[encoded data removed]",
      "text/plain": [
       "<Figure size 432x288 with 1 Axes>"
      ]
     },
     "metadata": {
      "needs_background": "light"
     },
     "output_type": "display_data"
    },
    {
     "data": {
      "image/png": "[encoded data removed]",
      "text/plain": [
       "<Figure size 432x288 with 1 Axes>"
      ]
     },
     "metadata": {
      "needs_background": "light"
     },
     "output_type": "display_data"
    }
   ],
   "source": [
    "# Single model loss and accuracy\n",
    "models[0].plot_loss()\n",
    "models[0].plot_acc()"
   ]
  },
  {
   "cell_type": "code",
   "execution_count": 52,
   "metadata": {},
   "outputs": [
    {
     "name": "stdout",
     "output_type": "stream",
     "text": [
      "Predicted: 7\n",
      "Actual: 7\n"
     ]
    },
    {
     "data": {
      "image/png": "[encoded data removed]",
      "text/plain": [
       "<Figure size 432x288 with 1 Axes>"
      ]
     },
     "metadata": {
      "needs_background": "light"
     },
     "output_type": "display_data"
    }
   ],
   "source": [
    "# Test prediction from an index\n",
    "models[0].test_pred(0, test_features, test_labels)"
   ]
  },
  {
   "cell_type": "code",
   "execution_count": null,
   "metadata": {},
   "outputs": [],
   "source": []
  }
 ],
 "metadata": {
  "kernelspec": {
   "display_name": "Python 3",
   "language": "python",
   "name": "python3"
  },
  "language_info": {
   "codemirror_mode": {
    "name": "ipython",
    "version": 3
   },
   "file_extension": ".py",
   "mimetype": "text/x-python",
   "name": "python",
   "nbconvert_exporter": "python",
   "pygments_lexer": "ipython3",
   "version": "3.9.13"
  },
  "orig_nbformat": 4
 },
 "nbformat": 4,
 "nbformat_minor": 2
}
